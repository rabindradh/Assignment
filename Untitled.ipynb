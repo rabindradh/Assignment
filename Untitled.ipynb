{
 "cells": [
  {
   "cell_type": "code",
   "execution_count": 4,
   "metadata": {},
   "outputs": [
    {
     "name": "stdout",
     "output_type": "stream",
     "text": [
      "[(10, 20, 100), (40, 50, 100), (70, 80, 100)]\n"
     ]
    }
   ],
   "source": [
    "#Q. Write a Python program to replace last value of tuples in a list. \n",
    "#Sample list: [(10, 20, 40), (40, 50, 60), (70, 80, 90)]\n",
    "#Expected Output: [(10, 20, 100), (40, 50, 100), (70, 80, 100)] \n",
    "\n",
    "#solution\n",
    "a = [(10, 20, 40), (40, 50, 60), (70, 80, 90)]\n",
    "print([t[:-1] + (100,) for t in a])\n",
    "    \n",
    "    \n",
    "    \n",
    "    \n",
    "    "
   ]
  },
  {
   "cell_type": "code",
   "execution_count": null,
   "metadata": {},
   "outputs": [],
   "source": [
    "#Q. You are given a string and your task is to swap cases. In other words, convert all lowercase letters to uppercase letters and vice versa.¶\n",
    "#input: 'This is mE 123'\n",
    "#output: 'tHIS IS Me 123'\n",
    "\n",
    "#solution\n",
    "\n",
    "input = 'This is mE 123'\n",
    "output =''\n",
    "for letter in input:\n",
    "    if(ord(letter)>=65 and ord(letter)<=90):\n",
    "        output += chr(ord(letter)+32)\n",
    "    elif(ord(letter)>=97 and ord(letter)<=122):\n",
    "          output +=chr(ord(letter)-32)\n",
    "    else:\n",
    "          output +=chr(ord(letter))\n",
    "print(output)\n"
   ]
  },
  {
   "cell_type": "code",
   "execution_count": null,
   "metadata": {},
   "outputs": [],
   "source": [
    "#Q. The user enters a string and a substring. You have to print the number of times that the substring occurs in the given string. String traversal will take place from left to right, not from right to left.\n",
    "#Input: ABCDCDC\n",
    "# CDC\n",
    "# Output: 2\n",
    "\n",
    "#solution\n",
    "\n",
    "input = 'ABCDCDC'\n",
    "search = 'CDC'\n",
    "count = 0\n",
    "a = len(input)\n",
    "b = len(search)\n",
    "for i in range(0, a):\n",
    "    if input[i:i+b]==search:\n",
    "        count += 1\n",
    "print(count)"
   ]
  },
  {
   "cell_type": "code",
   "execution_count": null,
   "metadata": {},
   "outputs": [],
   "source": [
    "#Write a class in which its one method accepts a string from console and another method to print the characters that have even indexes.\n",
    "# Example:If the following string is given as input to the program:\n",
    "# H1e2l3l4o5w6o7r8l9d\n",
    "#Then, the output of the program should be:\n",
    "#Helloworld\n",
    "\n",
    "#Solution\n",
    "\n",
    "class PrintOddString:\n",
    "\n",
    "    def __init__(self):\n",
    "        self.text = \"\"\n",
    "        self.output = \"\"    \n",
    "  \n",
    "    \n",
    "    def enter_text(self):\n",
    "        self.text = input('Input string')\n",
    "\n",
    "        for str in self.text:\n",
    "            if (self.text.index(str) % 2 == 0):\n",
    "                self.output +=str \n",
    "        return self.output\n",
    "        \n",
    "    def print_output(self):\n",
    "        print(\"Output:\", self.output)\n",
    "\n",
    "if __name__ == \"__main__\":\n",
    "    output = PrintOddString()\n",
    "    output.enter_text()\n",
    "    output.print_output()\n"
   ]
  },
  {
   "cell_type": "code",
   "execution_count": null,
   "metadata": {},
   "outputs": [],
   "source": []
  }
 ],
 "metadata": {
  "kernelspec": {
   "display_name": "Python 3",
   "language": "python",
   "name": "python3"
  },
  "language_info": {
   "codemirror_mode": {
    "name": "ipython",
    "version": 3
   },
   "file_extension": ".py",
   "mimetype": "text/x-python",
   "name": "python",
   "nbconvert_exporter": "python",
   "pygments_lexer": "ipython3",
   "version": "3.6.5"
  }
 },
 "nbformat": 4,
 "nbformat_minor": 2
}
